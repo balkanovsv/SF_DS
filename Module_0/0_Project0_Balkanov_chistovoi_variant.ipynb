{
 "cells": [
  {
   "cell_type": "markdown",
   "metadata": {},
   "source": [
    "# Вот чистовой вариант кода с описаниями:\n"
   ]
  },
  {
   "cell_type": "markdown",
   "metadata": {},
   "source": [
    "Напишем функцию, которая будет считать попытки и генерировать рандомные числа, которые предстоит угадать компьютеру. Принимает на входе количество игр, которые ему предстоит сыграть и диапазон чисел для угадывания (от 0 до 100 по умолчанию)"
   ]
  },
  {
   "cell_type": "code",
   "execution_count": 2,
   "metadata": {},
   "outputs": [],
   "source": [
    "def schetchik_popitok(kol_igr,diapazon_min=1,diapazon_max=100):\n",
    "    #импортируем библиотеку для использования функций рандом и среднее.\n",
    "    import numpy as np\n",
    "    #в этом диапазоне будут хранится данные о количестве использованных попыток в каждой игре.\n",
    "    results=[]\n",
    "    \n",
    "    for i in range(kol_igr): #здесь сознательно не пишем в range \"от 1 до 100+1\", т.к. Range по умолчанию будет считать от 0            \n",
    "        #Вызываем программу для угадывания чисел, \n",
    "        results.append(ugadivatel(np.random.randint(diapazon_min,diapazon_max+1)))\n",
    "        \n",
    "    #print(results) выводим результат\n",
    "    print(\"В среднем компуктеру трубовалось {} попыток чтобы угадать загаданное число в диапазоне от {} до {}. количество сыгранных игр: {}\".format(np.mean(results),diapazon_min,diapazon_max, kol_igr))"
   ]
  },
  {
   "cell_type": "markdown",
   "metadata": {},
   "source": [
    "Мы вызвали программу ugadivatel, которая занимается менеджментом всех данных происходящих в коде в дальнейшем. Мы сформируем ядро решателя. \n",
    "принимаем загаданное число и границы диапазона, возвращать будем количество попыток\n",
    "код программы:"
   ]
  },
  {
   "cell_type": "code",
   "execution_count": 3,
   "metadata": {},
   "outputs": [],
   "source": [
    "def ugadivatel(number, diapazon_min=1,diapazon_max=100, metod=2):\n",
    "    #создадим список, где будут храниться все числа из дапазона которых мы будем угадывать\n",
    "    spisok=list(range(diapazon_min,diapazon_max+1))\n",
    "    \n",
    "    predict=0   #создаем переменную, в нее будет записываться число предполагаемое компьютером\n",
    "    nomer=0     #в этой переменной будет хранится порядковый номер переменной predict в диапазоне список\n",
    "    counter=0   #переменная которая считает попытки компьютера угадать число\n",
    "\n",
    "    #вызываем программу, которая будет проверять, угадал ли компьютер число. на всякий случай ограничим \n",
    "    #количество попыток 50, чтобы не попасть в бесконечный луп    \n",
    "    while checker(number,predict)!='equal' and counter!=50:\n",
    "        #предложим компьютеру выбрать число по нашему условию в функции vibor_chisla\n",
    "        predict,nomer = vibor_chisla(spisok)\n",
    "        counter+=1\n",
    "        \n",
    "        #если угаданное число будет больше чем названное компьютером, то удалим все меньшие числа из диапазона для угадывания\n",
    "        if  checker(number,predict)=='more':\n",
    "            spisok=spisok[nomer:]\n",
    "            \n",
    "        #и наоборот, если число меньше, отсечёт все врехние числа в диапазоне  \n",
    "        else:\n",
    "            spisok=spisok[:nomer]    \n",
    "        #Выполняем код пока в диапазоне не останется одно число или компьютер не угадает число\n",
    "    \n",
    "    return counter"
   ]
  },
  {
   "cell_type": "markdown",
   "metadata": {},
   "source": [
    "Рассмотрим еще 2 вызываемые в подпрограмме функции:\n",
    "    checker - функция принимающая число, и возвращающая больше/меньше/равно загадонное число в сравнении с предполагаемым    "
   ]
  },
  {
   "cell_type": "code",
   "execution_count": 4,
   "metadata": {},
   "outputs": [],
   "source": [
    "def checker(number,predict):\n",
    "    if number==predict:\n",
    "        return 'equal'\n",
    "    elif number>predict:\n",
    "        return 'more'\n",
    "    else:\n",
    "        return 'less'\n",
    "    "
   ]
  },
  {
   "cell_type": "markdown",
   "metadata": {},
   "source": [
    "   vibor_chisla - Данная функция помогает компьютеру подобрать число для угадывания. Принимает на вход диапазон а на выходе выдает число и его положение в списке. Хотя сейчас, когда я пишу описание к уже работающей программе - я понимаю, что можно было сделать проще, и не возвращать функцией 2 значения, а всего одно, а его положение потом находить в списке просто\n"
   ]
  },
  {
   "cell_type": "code",
   "execution_count": 5,
   "metadata": {},
   "outputs": [],
   "source": [
    "def vibor_chisla(spisok):\n",
    "    #в данном случае реализован подбор числа через располовинивание диапазонов.\n",
    "    nomer=int(len(spisok)/2)\n",
    "    predict=spisok[nomer]\n",
    "    return predict,nomer"
   ]
  },
  {
   "cell_type": "markdown",
   "metadata": {},
   "source": [
    " можно было бы попробовать делить диапазон и на 3 и более частей, или использовать разбиение на диапазоны по функции эеспаненты или логарифмическую функцию от двойки, но для маленького диапазона это избыточно, поэтому дальше мудрить не стал, хотя изначально я хотел это сделать, в связи с чем в подпрограмме ugadivatel остался необязательный агрумент method=2"
   ]
  },
  {
   "cell_type": "code",
   "execution_count": 6,
   "metadata": {},
   "outputs": [
    {
     "name": "stdout",
     "output_type": "stream",
     "text": [
      "В среднем компуктеру трубовалось 5.781 попыток чтобы угадать загаданное число в диапазоне от 1 до 100. количество сыгранных игр: 1000\n"
     ]
    }
   ],
   "source": [
    "schetchik_popitok(1000)"
   ]
  },
  {
   "cell_type": "code",
   "execution_count": 10,
   "metadata": {},
   "outputs": [
    {
     "name": "stdout",
     "output_type": "stream",
     "text": [
      "В среднем компуктеру трубовалось 5.81 попыток чтобы угадать загаданное число в диапазоне от 1 до 100. количество сыгранных игр: 100\n"
     ]
    }
   ],
   "source": [
    "schetchik_popitok(100,1,100)"
   ]
  },
  {
   "cell_type": "code",
   "execution_count": null,
   "metadata": {},
   "outputs": [],
   "source": []
  },
  {
   "cell_type": "code",
   "execution_count": null,
   "metadata": {},
   "outputs": [],
   "source": []
  }
 ],
 "metadata": {
  "kernelspec": {
   "display_name": "Python 3",
   "language": "python",
   "name": "python3"
  },
  "language_info": {
   "codemirror_mode": {
    "name": "ipython",
    "version": 3
   },
   "file_extension": ".py",
   "mimetype": "text/x-python",
   "name": "python",
   "nbconvert_exporter": "python",
   "pygments_lexer": "ipython3",
   "version": "3.8.3"
  }
 },
 "nbformat": 4,
 "nbformat_minor": 4
}
